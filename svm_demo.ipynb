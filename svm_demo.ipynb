{
 "cells": [
  {
   "cell_type": "markdown",
   "metadata": {},
   "source": [
    "# MNIST character recognition with SVM\n",
    "# Part 1. Simple classification\n",
    "The MNIST dataset contains 70,000 samples of handwritten digits 0-9, with labels. This is a standard benchmark problem for machine learning. We will use SVM to learn classification of the digits."
   ]
  },
  {
   "cell_type": "code",
   "execution_count": 1,
   "metadata": {},
   "outputs": [
    {
     "ename": "ModuleNotFoundError",
     "evalue": "No module named 'tensorflow'",
     "output_type": "error",
     "traceback": [
      "\u001b[1;31m---------------------------------------------------------------------------\u001b[0m",
      "\u001b[1;31mModuleNotFoundError\u001b[0m                       Traceback (most recent call last)",
      "\u001b[1;32m<ipython-input-1-122bfebbfa52>\u001b[0m in \u001b[0;36m<module>\u001b[1;34m\u001b[0m\n\u001b[0;32m      3\u001b[0m \u001b[1;32mimport\u001b[0m \u001b[0mnumpy\u001b[0m \u001b[1;32mas\u001b[0m \u001b[0mnp\u001b[0m\u001b[1;33m\u001b[0m\u001b[1;33m\u001b[0m\u001b[0m\n\u001b[0;32m      4\u001b[0m \u001b[1;32mimport\u001b[0m \u001b[0mpickle\u001b[0m\u001b[1;33m\u001b[0m\u001b[1;33m\u001b[0m\u001b[0m\n\u001b[1;32m----> 5\u001b[1;33m \u001b[1;32mimport\u001b[0m \u001b[0mtensorflow\u001b[0m \u001b[1;32mas\u001b[0m \u001b[0mtf\u001b[0m\u001b[1;33m\u001b[0m\u001b[1;33m\u001b[0m\u001b[0m\n\u001b[0m\u001b[0;32m      6\u001b[0m \u001b[1;32mfrom\u001b[0m \u001b[0msklearn\u001b[0m \u001b[1;32mimport\u001b[0m \u001b[0mmodel_selection\u001b[0m\u001b[1;33m,\u001b[0m \u001b[0msvm\u001b[0m\u001b[1;33m,\u001b[0m \u001b[0mpreprocessing\u001b[0m\u001b[1;33m,\u001b[0m \u001b[0mpipeline\u001b[0m\u001b[1;33m\u001b[0m\u001b[1;33m\u001b[0m\u001b[0m\n\u001b[0;32m      7\u001b[0m \u001b[1;32mfrom\u001b[0m \u001b[0msklearn\u001b[0m\u001b[1;33m.\u001b[0m\u001b[0mmetrics\u001b[0m \u001b[1;32mimport\u001b[0m \u001b[0maccuracy_score\u001b[0m\u001b[1;33m,\u001b[0m\u001b[0mconfusion_matrix\u001b[0m\u001b[1;33m\u001b[0m\u001b[1;33m\u001b[0m\u001b[0m\n",
      "\u001b[1;31mModuleNotFoundError\u001b[0m: No module named 'tensorflow'"
     ]
    }
   ],
   "source": [
    "import sys\n",
    "import time\n",
    "import numpy as np\n",
    "import pickle\n",
    "import tensorflow as tf\n",
    "from sklearn import model_selection, svm, preprocessing, pipeline\n",
    "from sklearn.metrics import accuracy_score,confusion_matrix\n",
    "from Fashion_MNIST_Loader.mnist_loader import MNIST\n",
    "import matplotlib.pyplot as plt\n",
    "import matplotlib.axes\n",
    "from matplotlib import style\n",
    "style.use('ggplot')"
   ]
  },
  {
   "cell_type": "markdown",
   "metadata": {},
   "source": [
    "## Load the data\n",
    "Tensorflow Keras provides a convenient source for loading the data. Note that the loading function automatically splits the data into training and testing sets. For our purposes, we need training, validation, and (holdout) test sets.\n",
    "\n",
    "The images come in the form of 28x28 grayscale arrays, which need to be converted into 784-length feature vectors for SVM."
   ]
  },
  {
   "cell_type": "code",
   "execution_count": null,
   "metadata": {},
   "outputs": [],
   "source": [
    "(X_train, y_train), (X_test, y_test) = tf.keras.datasets.mnist.load_data()\n",
    "\n",
    "X_train = X_train.reshape(X_train.shape[0],784,)\n",
    "X_test = X_test.reshape(X_test.shape[0],784,)\n",
    "X_validate, X_holdout, y_validate, y_holdout = model_selection.train_test_split(X_test, y_test, test_size=0.2, random_state=0)"
   ]
  },
  {
   "cell_type": "markdown",
   "metadata": {},
   "source": [
    "# Train SVM\n",
    "The labels are for the ten classes 0-9, and are in the form of integers. The SVM classifier automatically determines that this is not a binary classification. What type of multi-classification will it perform by default? How could you specify a different type?\n",
    "\n",
    "Note: The classification is quite intensive, and may take several minutes to compute. For the demo, only the first 10,000 samples are used."
   ]
  },
  {
   "cell_type": "code",
   "execution_count": null,
   "metadata": {
    "scrolled": true
   },
   "outputs": [],
   "source": [
    "print('SVM Classifier')\n",
    "clf = svm.SVC(C=10., kernel='linear')\n",
    "\n",
    "clf.fit(X_train[:10000],y_train[:10000])"
   ]
  },
  {
   "cell_type": "markdown",
   "metadata": {},
   "source": [
    "## Check accuracy with validation data"
   ]
  },
  {
   "cell_type": "code",
   "execution_count": null,
   "metadata": {},
   "outputs": [],
   "source": [
    "print('\\nCalculating Accuracy of trained Classifier...')\n",
    "acc = clf.score(X_validate,y_validate)\n",
    "\n",
    "print('\\nMaking Predictions on Validation Data...')\n",
    "y_pred = clf.predict(X_validate)\n",
    "\n",
    "print('\\nCalculating Accuracy of Predictions...')\n",
    "accuracy = accuracy_score(y_validate, y_pred)\n",
    "\n",
    "print('\\nCreating Confusion Matrix...')\n",
    "conf_mat = confusion_matrix(y_validate,y_pred)\n",
    "\n",
    "print('\\nSVM Trained Classifier Accuracy: ',acc)\n",
    "print('\\nPredicted Values: ',y_pred)\n",
    "print('\\nAccuracy of Classifier on Validation Images: ',accuracy)\n",
    "print('\\nConfusion Matrix: \\n',conf_mat)\n",
    "\n",
    "# Plot Confusion Matrix Data as a Matrix\n",
    "plt.matshow(conf_mat)\n",
    "plt.title('Confusion Matrix for Validation Data')\n",
    "plt.colorbar()\n",
    "plt.ylabel('True label')\n",
    "plt.xlabel('Predicted label')\n",
    "plt.show()"
   ]
  },
  {
   "cell_type": "markdown",
   "metadata": {},
   "source": [
    "## Check accuracy with holdout test"
   ]
  },
  {
   "cell_type": "code",
   "execution_count": null,
   "metadata": {
    "scrolled": true
   },
   "outputs": [],
   "source": [
    "print('\\nMaking Predictions on Holdout Test Input Images...')\n",
    "y_holdout_pred = clf.predict(X_holdout)\n",
    "\n",
    "print('\\nCalculating Accuracy of Trained Classifier on Test Data... ')\n",
    "acc = accuracy_score(y_holdout,y_holdout_pred)\n",
    "\n",
    "print('\\n Creating Confusion Matrix for Test Data...')\n",
    "conf_mat_test = confusion_matrix(y_holdout,y_holdout_pred)\n",
    "\n",
    "print('\\nPredicted Labels for Test Images: ',y_holdout_pred)\n",
    "print('\\nAccuracy of Classifier on Test Images: ',acc)\n",
    "print('\\nConfusion Matrix for Test Data: \\n',conf_mat_test)\n",
    "\n"
   ]
  },
  {
   "cell_type": "code",
   "execution_count": null,
   "metadata": {},
   "outputs": [],
   "source": [
    "# Plot Confusion Matrix for Test Data\n",
    "plt.matshow(conf_mat_test)\n",
    "plt.title('Confusion Matrix for Test Data')\n",
    "plt.colorbar()\n",
    "plt.ylabel('True label')\n",
    "plt.xlabel('Predicted label')\n",
    "plt.show()\n"
   ]
  },
  {
   "cell_type": "markdown",
   "metadata": {},
   "source": [
    "## Representative images"
   ]
  },
  {
   "cell_type": "code",
   "execution_count": null,
   "metadata": {
    "scrolled": true
   },
   "outputs": [],
   "source": [
    "a = np.random.randint(0,len(X_holdout),16)\n",
    "fig, axs = plt.subplots(8,2, figsize=(10,14))\n",
    "for i,d in enumerate(a):\n",
    "    two_d = np.reshape(X_holdout[d], (28, 28)) \n",
    "    axs[i//2,i % 2].imshow(two_d, interpolation='nearest')\n",
    "    axs[i//2,i % 2].set_title('Original Label: {0}  Predicted Label: {1}'.format(y_holdout[d],y_holdout_pred[d]))\n",
    "plt.show()"
   ]
  },
  {
   "cell_type": "markdown",
   "metadata": {},
   "source": [
    "# 2. Hyperparameter sweep using grid search\n",
    "Parameters such as `C` are not necessarily known in advance. `GridSearchCV` can try multiple combinations of parameters automatically, while performing k-fold cross-validation. (Note that grid search can take considerable time.)\n",
    "\n",
    "Here there is no need to produce three sets of data, because grid search will automatically perform validation."
   ]
  },
  {
   "cell_type": "code",
   "execution_count": null,
   "metadata": {},
   "outputs": [],
   "source": [
    "(X_train, y_train), (X_test, y_test) = tf.keras.datasets.mnist.load_data()\n",
    "X_train = X_train.reshape(X_train.shape[0],784,)\n",
    "X_test = X_test.reshape(X_test.shape[0],784,)"
   ]
  },
  {
   "cell_type": "code",
   "execution_count": null,
   "metadata": {},
   "outputs": [],
   "source": [
    "parameters = {'C':[0.0001, 1., 1e5]}\n",
    "svc = svm.SVC(kernel='linear')\n",
    "clf = model_selection.GridSearchCV(svc, param_grid=parameters, cv=3, return_train_score=True)\n",
    "clf.fit(X_train[:10000],y_train[:10000])"
   ]
  },
  {
   "cell_type": "code",
   "execution_count": null,
   "metadata": {},
   "outputs": [],
   "source": [
    "print(\"score = % 3.2f\" %clf.score(X_holdout, y_holdout))\n",
    "\n",
    "print(\"best parameters: \", clf.best_params_)"
   ]
  },
  {
   "cell_type": "code",
   "execution_count": null,
   "metadata": {},
   "outputs": [],
   "source": [
    "# The detailed results of cross-validation may optionally be accessed with this:\n",
    "#clf.cv_results_"
   ]
  },
  {
   "cell_type": "code",
   "execution_count": null,
   "metadata": {},
   "outputs": [],
   "source": [
    "print('\\nMaking Predictions on Holdout Test Input Images...')\n",
    "y_test_pred = clf.predict(X_test)\n",
    "\n",
    "print('\\nCalculating Accuracy of Trained Classifier on Test Data... ')\n",
    "acc = accuracy_score(y_test,y_test_pred)\n",
    "\n",
    "print('\\n Creating Confusion Matrix for Test Data...')\n",
    "conf_mat_test = confusion_matrix(y_test,y_test_pred)\n",
    "\n",
    "print('\\nPredicted Labels for Test Images: ',y_test_pred)\n",
    "print('\\nAccuracy of Classifier on Test Images: ',acc)\n",
    "print('\\nConfusion Matrix for Test Data: \\n',conf_mat_test)"
   ]
  },
  {
   "cell_type": "markdown",
   "metadata": {},
   "source": [
    "# Part 3. Fashion MNIST\n",
    "The original MNIST dataset is for training and testing recognition of handwritten numerals. Fashion MNIST is a more difficult dataset of images of clothing items. It is meant to be a nearly drop-in replacement for character MNIST. The images are originally in 28x28 format, to be reshaped into 784-length arrays."
   ]
  },
  {
   "cell_type": "code",
   "execution_count": null,
   "metadata": {},
   "outputs": [],
   "source": [
    "import tensorflow as tf\n",
    "import numpy as np\n",
    "import matplotlib.pyplot as plt\n",
    "\n",
    "(x_train, y_train), (x_test, y_test) = tf.keras.datasets.fashion_mnist.load_data()\n",
    "LABEL_NAMES = ['t_shirt', 'trouser', 'pullover', 'dress', 'coat', 'sandal', 'shirt', 'sneaker', 'bag', 'ankle_boots']\n",
    "\n",
    "x_train = x_train.reshape(x_train.shape[0],784,)\n",
    "x_test = x_test.reshape(x_test.shape[0],784,)"
   ]
  },
  {
   "cell_type": "markdown",
   "metadata": {},
   "source": [
    "## Examine images\n",
    "Each image is a grayscale. The images can be viewed by reshaping them back into 28x28 arrays. The labels are indices, which can be converted to text with LABEL_NAMES."
   ]
  },
  {
   "cell_type": "code",
   "execution_count": null,
   "metadata": {},
   "outputs": [],
   "source": [
    "m = 5\n",
    "n = 5\n",
    "whichimgs = np.random.randint(low=0, high=len(x_train), size=(m,n))\n",
    "fig, axs = plt.subplots(m, n, sharex='col', sharey='row',\n",
    "                       figsize=(8,8))\n",
    "\n",
    "plt.xticks([])\n",
    "plt.yticks([])\n",
    "for i in range(m):\n",
    "    for j in range(n):\n",
    "        axs[i,j].imshow(x_train[whichimgs[i,j]].reshape(28,28))\n",
    "        axs[i,j].set_title(LABEL_NAMES[y_train[whichimgs[i,j]]])\n",
    "        axs[i,j].set_title(y_train[whichimgs[i,j]])\n",
    "        axs[i,j].set_xticks([])\n",
    "        axs[i,j].set_yticks([])"
   ]
  }
 ],
 "metadata": {
  "kernelspec": {
   "display_name": "Python 3",
   "language": "python",
   "name": "python3"
  },
  "language_info": {
   "codemirror_mode": {
    "name": "ipython",
    "version": 3
   },
   "file_extension": ".py",
   "mimetype": "text/x-python",
   "name": "python",
   "nbconvert_exporter": "python",
   "pygments_lexer": "ipython3",
   "version": "3.7.3"
  }
 },
 "nbformat": 4,
 "nbformat_minor": 2
}
